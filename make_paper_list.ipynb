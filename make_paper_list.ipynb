{
 "cells": [
  {
   "cell_type": "code",
   "execution_count": null,
   "id": "1222dd12-e4a6-4aaf-a186-78a3084723ad",
   "metadata": {},
   "outputs": [],
   "source": [
    "import pandas as pd\n",
    "from scholarly import ProxyGenerator, scholarly\n",
    "from tqdm import tqdm"
   ]
  },
  {
   "cell_type": "code",
   "execution_count": null,
   "id": "a65e119b-956c-4397-b2cb-ff305c52c908",
   "metadata": {},
   "outputs": [],
   "source": [
    "query = \"brain machine learning\"\n",
    "csv_path = \"brain_machine_learning.csv\"\n",
    "citation_limit = 10\n",
    "search_num=1000"
   ]
  },
  {
   "cell_type": "code",
   "execution_count": null,
   "id": "1093142b-0fae-4b92-924d-a6951ea738fc",
   "metadata": {},
   "outputs": [],
   "source": [
    "result_df = pd.DataFrame(columns=[\"title\", \"journal\", \"year\", \"citation\", \"citation_per_year\", \"author\", \"URL\"])\n",
    "\n",
    "pg = ProxyGenerator()\n",
    "pg.Tor_Internal(tor_cmd=\"tor\")\n",
    "scholarly.use_proxy(pg)\n",
    "\n",
    "\n",
    "search_query = scholarly.search_pubs(query)\n",
    "for i in tqdm(range(search_num)):\n",
    "    result = next(search_query)\n",
    "    try:\n",
    "        if result[\"num_citations\"] >= citation_limit:\n",
    "            result_df = result_df.append(\n",
    "                {\n",
    "                    \"title\": result[\"bib\"][\"title\"],\n",
    "                    \"journal\": result[\"bib\"][\"venue\"],\n",
    "                    \"year\": result[\"bib\"][\"pub_year\"],\n",
    "                    \"citation\": result[\"num_citations\"],\n",
    "                    \"citation_per_year\": int(result[\"num_citations\"] / (int(\"2021\") - int(result[\"bib\"][\"pub_year\"]) + 1)),\n",
    "                    \"author\": result[\"bib\"][\"author\"],\n",
    "                    \"URL\": result[\"eprint_url\"],\n",
    "                },\n",
    "                ignore_index=True,\n",
    "            )\n",
    "    except:\n",
    "        continue"
   ]
  },
  {
   "cell_type": "code",
   "execution_count": null,
   "id": "94bc58ce-1eb4-416c-94f8-52745541099c",
   "metadata": {},
   "outputs": [],
   "source": [
    "result_df"
   ]
  },
  {
   "cell_type": "code",
   "execution_count": null,
   "id": "f42feb88-a0f1-43f6-ac1b-e4c81a341425",
   "metadata": {},
   "outputs": [],
   "source": [
    "result_df.to_csv(csv_path, index=False)"
   ]
  }
 ],
 "metadata": {
  "kernelspec": {
   "display_name": "Python 3",
   "language": "python",
   "name": "python3"
  },
  "language_info": {
   "codemirror_mode": {
    "name": "ipython",
    "version": 3
   },
   "file_extension": ".py",
   "mimetype": "text/x-python",
   "name": "python",
   "nbconvert_exporter": "python",
   "pygments_lexer": "ipython3",
   "version": "3.9.5"
  }
 },
 "nbformat": 4,
 "nbformat_minor": 5
}
